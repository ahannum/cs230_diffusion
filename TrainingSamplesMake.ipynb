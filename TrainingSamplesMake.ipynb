{
 "cells": [
  {
   "cell_type": "markdown",
   "id": "3cb94d1d",
   "metadata": {},
   "source": [
    "# Set Up"
   ]
  },
  {
   "cell_type": "code",
   "execution_count": 1,
   "id": "1b7d5991",
   "metadata": {},
   "outputs": [],
   "source": [
    "import os\n",
    "import numpy as np\n",
    "import nibabel as nib\n",
    "from dipy.io.image import load_nifti\n",
    "from dipy.io import read_bvals_bvecs\n",
    "import matplotlib.pyplot as plt\n",
    "import sigpy as sp\n",
    "import sigpy.plot as pl\n",
    "import numpy as np\n",
    "import nibabel as nib\n",
    "import dipy.reconst.dti as dti\n",
    "from dipy.io.image import load_nifti, save_nifti\n",
    "from dipy.io.gradients import read_bvals_bvecs\n",
    "from dipy.core.gradients import gradient_table\n",
    "import os\n",
    "import nibabel as nib\n",
    "from dipy.data import fetch_bundles_2_subjects\n",
    "from dipy.io.image import load_nifti, load_nifti_data\n",
    "import scipy"
   ]
  },
  {
   "cell_type": "code",
   "execution_count": 2,
   "id": "1313ce4a",
   "metadata": {},
   "outputs": [],
   "source": [
    "# Get list of .nii.gz files in the directory \n",
    "path = \"Data/\"\n",
    "extensions = '.nii.gz'\n",
    "filelist = []\n",
    "bvallist = []\n",
    "bveclist = []\n",
    "diffdirlist = []\n",
    "ii=1\n",
    "\n",
    "for subdir, dirs, files in os.walk(path):\n",
    "        for file in files:\n",
    "            ext = os.path.splitext(file)[-1].lower()\n",
    "            if ext in extensions:\n",
    "                t=str(os.path.splitext(file))\n",
    "                if t[-12:-9] == 'nii':\n",
    "                    example_filename = os.path.join(subdir, file)\n",
    "                    name = example_filename.split('/')\n",
    "                    name1 = name[1].split('_')\n",
    "\n",
    "                    if name1[0] == \"processedDWI\":\n",
    "                        filelist.append(example_filename)\n",
    "                        \n",
    "            if ext == '.bval':\n",
    "                t=str(os.path.splitext(file))\n",
    "                example_filename = os.path.join(subdir, file)\n",
    "                name = example_filename.split('/')\n",
    "                name1 = name[1].split('_')\n",
    "\n",
    "                if name1[0] == \"processedDWI\":\n",
    "                    bvallist.append(example_filename)\n",
    "                    \n",
    "            if ext == '.bvec':\n",
    "                t=str(os.path.splitext(file))\n",
    "                example_filename = os.path.join(subdir, file)\n",
    "                name = example_filename.split('/')\n",
    "                name1 = name[1].split('_')\n",
    "\n",
    "                if name1[0] == \"processedDWI\":\n",
    "                    bveclist.append(example_filename)\n",
    "                    \n",
    "            if ext == '.mat':\n",
    "                t=str(os.path.splitext(file))\n",
    "                example_filename = os.path.join(subdir, file)\n",
    "                name = example_filename.split('/')\n",
    "                name1 = name[1].split('_')\n",
    "                \n",
    "                \n",
    "                diffdirlist.append(example_filename)\n",
    "\n",
    "# List of MR Data, bvalues, and bvecs                    \n",
    "scanlist = list(np.sort(filelist))\n",
    "bvals = list(np.sort(bvallist))\n",
    "bvecs = list(np.sort(bveclist))\n",
    "diffdirs = list(np.sort(diffdirlist))"
   ]
  },
  {
   "cell_type": "code",
   "execution_count": 3,
   "id": "0f551187",
   "metadata": {},
   "outputs": [],
   "source": [
    "## Load 1 image file \n",
    "from skimage.transform import rescale, resize, downscale_local_mean\n",
    "import scipy.io\n",
    "from dipy.io import read_bvals_bvecs\n",
    "\n",
    "num = 0\n",
    "data, affine1, img = load_nifti(scanlist[num], return_img=True)\n",
    "bval, bvec = read_bvals_bvecs(bvals[num], bvecs[num])\n",
    "\n",
    "optimaldirs = scipy.io.loadmat(diffdirs[num])\n",
    "sixDirs = optimaldirs['ind_all'] - 1"
   ]
  },
  {
   "cell_type": "code",
   "execution_count": 4,
   "id": "d544a34e",
   "metadata": {},
   "outputs": [
    {
     "name": "stdout",
     "output_type": "stream",
     "text": [
      "0 1 2 3 4 5 6 7 8 9 10 11 12 13 14 15 16 17 18 19 20 21 22 23 24 25 26 27 28 29 30 31 32 33 34 35 36 37 38 39 40 41 42 43 44 45 46 47 48 49 50 51 52 53 54 55 56 57 58 59 60 61 62 63 64 65 66 67 68 69 70 71 72 73 74 75 76 77 78 79 80 81 82 83 84 85 86 "
     ]
    }
   ],
   "source": [
    "# Generate Training, Validation, and Testing Data\n",
    "from dipy.core.gradients import gradient_table\n",
    "from dipy.reconst.dti import fractional_anisotropy, color_fa\n",
    "from dipy.segment.mask import median_otsu\n",
    "import random\n",
    "\n",
    "cropx=int(128)\n",
    "cropy=int(128)\n",
    "factor = data.shape[0]/cropx\n",
    "cropz = int(data.shape[2] // factor)\n",
    "\n",
    "model_in = np.zeros((cropx,cropy,cropz,7,sixDirs.shape[0]))\n",
    "model_out = np.zeros((cropx,cropy,cropz,1,sixDirs.shape[0]))\n",
    "\n",
    "# Sort Diffusion \n",
    "b0s = data[:,:,:,bval<10]\n",
    "meanb0 = np.mean(b0s,3)\n",
    "dwis = data[:,:,:,bval>10]\n",
    "bvals_dwi = bval[bval > 10]\n",
    "bvecs_dwi = bvec[bval>100,:]\n",
    "dirs = bvec[bval>100,:]\n",
    "\n",
    "for ii in range(0,sixDirs.shape[0]): #sixDirs.shape[0]\n",
    "    b0 = b0s[:,:,:,random.randint(0,b0s.shape[-1]-1)]\n",
    "    data1 = np.concatenate((b0[:,:,:,np.newaxis],dwis[:,:,:,list(sixDirs[ii,:])]),axis = -1)\n",
    "    shape = np.shape(data1)\n",
    "    \n",
    "    # Input Array Make [6 diffusion directions]\n",
    "    padded_array = np.pad(data1,((0,0),(2,2),(0,0),(0,0)))\n",
    "    \n",
    "    F = sp.linop.FFT(padded_array.shape, axes=(0, 1, 2))\n",
    "    kspc = F(padded_array)\n",
    "    \n",
    "    \n",
    "    x,y,z,dd = kspc.shape   # Get dimensions\n",
    "    startx = int(x//2-(cropx//2))\n",
    "    starty = int(y//2-(cropy//2))  \n",
    "    startz = int(z//2-(cropz//2))  \n",
    "    \n",
    "    kspc_crop = kspc[startx:startx+cropx,starty:starty+cropy,startz:startz+cropz,:]\n",
    "    Fcrop = sp.linop.FFT(kspc_crop.shape, axes=(0,1,2))\n",
    "    im_crop =abs(Fcrop.H(kspc_crop))\n",
    "\n",
    "    _, mask = median_otsu(im_crop[:,:,:,0])\n",
    "    maskdata = im_crop * np.repeat(mask[:,:,:,np.newaxis],im_crop.shape[-1],axis=-1)\n",
    "    model_in[:,:,:,:,ii] = maskdata\n",
    "    \n",
    "    #Output Array Make [calculated FA from 20 Diffusion Directions]\n",
    "    dirs20 = random.sample(range(bvals_dwi.shape[0]),20)\n",
    "    bvals_20dirs = np.insert(bvals_dwi[dirs20],0,0,axis = 0)\n",
    "    bvecs_20dirs = np.insert(bvecs_dwi[dirs20,:],0,[0,0,0],axis = 0)\n",
    "    gtab = gradient_table(bvals_20dirs, bvecs_20dirs)\n",
    "    \n",
    "    data1 = np.concatenate((b0[:,:,:,np.newaxis],dwis[:,:,:,dirs20]),axis = -1)\n",
    "    shape = np.shape(data1)\n",
    "    \n",
    "    padded_array = np.pad(data1,((0,0),(2,2),(0,0),(0,0)))\n",
    "    \n",
    "    F = sp.linop.FFT(padded_array.shape, axes=(0, 1, 2))\n",
    "    kspc = F(padded_array)\n",
    "    \n",
    "    \n",
    "    x,y,z,dd = kspc.shape   # Get dimensions\n",
    "    startx = int(x//2-(cropx//2))\n",
    "    starty = int(y//2-(cropy//2))  \n",
    "    startz = int(z//2-(cropz//2))  \n",
    "    \n",
    "    kspc_crop = kspc[startx:startx+cropx,starty:starty+cropy,startz:startz+cropz,:]\n",
    "    Fcrop = sp.linop.FFT(kspc_crop.shape, axes=(0,1,2))\n",
    "    im_crop =abs(Fcrop.H(kspc_crop))\n",
    "\n",
    "    _, mask = median_otsu(im_crop[:,:,:,0])   \n",
    "\n",
    "    maskdata = im_crop * np.repeat(mask[:,:,:,np.newaxis],im_crop.shape[-1],axis=-1)\n",
    "\n",
    "    tenmodel = dti.TensorModel(gtab)\n",
    "    tenfit = tenmodel.fit(maskdata)\n",
    "    \n",
    "    FA = fractional_anisotropy(tenfit.evals)\n",
    "    FA[np.isnan(FA)] = 0\n",
    "    fa_img = nib.Nifti1Image(FA.astype(np.float32), np.eye(4))\n",
    "    \n",
    "    \n",
    "    model_out[:,:,:,0,ii] = FA\n",
    "    \n",
    "    print(ii,end=' ')"
   ]
  },
  {
   "cell_type": "code",
   "execution_count": 5,
   "id": "b81166e5",
   "metadata": {},
   "outputs": [],
   "source": [
    "# Save training, test, and validaiton data\n",
    "from numpy import save\n",
    "save('Training/model_in.npy',(model_in))\n",
    "save('Training/model_out.npy',model_out)"
   ]
  },
  {
   "cell_type": "code",
   "execution_count": 6,
   "id": "f9838015",
   "metadata": {
    "scrolled": true
   },
   "outputs": [
    {
     "name": "stdout",
     "output_type": "stream",
     "text": [
      "(7, 5040, 128, 128) (1, 5040, 128, 128)\n",
      "(7, 840, 128, 128) (1, 840, 128, 128)\n",
      "(7, 840, 128, 128) (1, 840, 128, 128)\n"
     ]
    }
   ],
   "source": [
    "idx = np.arange(0,model_in.shape[-1]-7,4)\n",
    "idx_train = np.delete(np.arange(80),idx)\n",
    "train_in = (model_in[:,:,:,:,idx_train])\n",
    "train_in1 = np.transpose(train_in,(3,0,1,2,4))\n",
    "train_in1 = np.reshape(train_in1,(train_in.shape[3],train_in.shape[0],train_in.shape[1],train_in.shape[2]*train_in.shape[4]))\n",
    "train_in1 = np.transpose(train_in1,(0,-1,1,2))\n",
    "\n",
    "train_out = (model_out[:,:,:,:,idx_train])\n",
    "train_out1 = np.transpose(train_out,(3,0,1,2,4))\n",
    "train_out1 = np.reshape(train_out1,(train_out.shape[3],train_out.shape[0],train_out.shape[1],train_out.shape[2]*train_out.shape[4]))\n",
    "train_out1 = np.transpose(train_out1,(0,-1,1,2))\n",
    "\n",
    "\n",
    "save('Training/train/data_in.npy',train_in1)\n",
    "save('Training/train/data_out.npy',train_out1)\n",
    "val_idx = idx[::2]\n",
    "val_in = model_in[:,:,:,:,val_idx]\n",
    "val_in1 = np.transpose(val_in,(3,0,1,2,4))\n",
    "val_in1 = np.reshape(val_in1,(val_in.shape[3],val_in.shape[0],val_in.shape[1],val_in.shape[2]*val_in.shape[4]))\n",
    "val_in1 = np.transpose(val_in1,(0,-1,1,2))\n",
    "\n",
    "\n",
    "val_out = model_out[:,:,:,:,val_idx]\n",
    "val_out1 = np.transpose(val_out,(3,0,1,2,4))\n",
    "val_out1 = np.reshape(val_out1,(val_out.shape[3],val_out.shape[0],val_out.shape[1],val_out.shape[2]*val_out.shape[4]))\n",
    "val_out1 = np.transpose(val_out1,(0,-1,1,2))\n",
    "\n",
    "save('Training/val/data_in.npy',val_in1)\n",
    "save('Training/val/data_out.npy',val_out1)\n",
    "\n",
    "\n",
    "test_in = model_in[:,:,:,:,idx[1::2]]\n",
    "test_in1 = np.transpose(test_in,(3,0,1,2,4))\n",
    "test_in1 = np.reshape(test_in1,(test_in.shape[3],test_in.shape[0],test_in.shape[1],test_in.shape[2]*test_in.shape[4]))\n",
    "test_in1 = np.transpose(test_in1,(0,-1,1,2))\n",
    "\n",
    "test_out = model_out[:,:,:,:,idx[1::2]]\n",
    "test_out1 = np.transpose(test_out,(3,0,1,2,4))\n",
    "test_out1 = np.reshape(test_out1,(test_out.shape[3],test_out.shape[0],test_out.shape[1],test_out.shape[2]*test_out.shape[4]))\n",
    "test_out1 = np.transpose(test_out1,(0,-1,1,2))\n",
    "\n",
    "save('Training/test/data_in.npy',test_in1)\n",
    "save('Training/test/data_out.npy',test_out1)\n",
    "\n",
    "print(train_in1.shape,train_out1.shape)\n",
    "print(val_in1.shape,val_out1.shape)\n",
    "print(test_in1.shape,test_out1.shape)"
   ]
  },
  {
   "cell_type": "markdown",
   "id": "d5204bc6",
   "metadata": {},
   "source": [
    "# Ground Truth for Each Dataset"
   ]
  },
  {
   "cell_type": "code",
   "execution_count": null,
   "id": "43c8440f",
   "metadata": {},
   "outputs": [],
   "source": [
    "## Load 1 image file \n",
    "from skimage.transform import rescale, resize, downscale_local_mean\n",
    "import scipy.io\n",
    "from dipy.io import read_bvals_bvecs\n",
    "\n",
    "num = 0\n",
    "data, affine1, img = load_nifti(scanlist[num], return_img=True)\n",
    "bval, bvec = read_bvals_bvecs(bvals[num], bvecs[num])\n",
    "\n",
    "optimaldirs = scipy.io.loadmat(diffdirs[num])\n",
    "sixDirs = optimaldirs['ind_all'] - 1"
   ]
  },
  {
   "cell_type": "code",
   "execution_count": null,
   "id": "6512c378",
   "metadata": {},
   "outputs": [],
   "source": [
    "# Generate Training, Validation, and Testing Data\n",
    "from dipy.core.gradients import gradient_table\n",
    "from dipy.reconst.dti import fractional_anisotropy, color_fa\n",
    "from dipy.segment.mask import median_otsu\n",
    "import random\n",
    "from numpy import save\n",
    "\n",
    "\n",
    "for num in range(len(scanlist)):\n",
    "    data, affine1, img = load_nifti(scanlist[num], return_img=True)\n",
    "    bval, bvec = read_bvals_bvecs(bvals[num], bvecs[num])\n",
    "\n",
    "    optimaldirs = scipy.io.loadmat(diffdirs[num])\n",
    "    sixDirs = optimaldirs['ind_all'] - 1\n",
    "\n",
    "    cropx=int(128)\n",
    "    cropy=int(128)\n",
    "    factor = data.shape[0]/cropx\n",
    "    cropz = int(data.shape[2] // factor)\n",
    "\n",
    "\n",
    "    # Sort Diffusion \n",
    "    b0s = data[:,:,:,bval<10]\n",
    "    meanb0 = np.mean(b0s,3)\n",
    "    dwis = data[:,:,:,bval>10]\n",
    "    bvals_dwi = bval[bval > 10]\n",
    "    bvecs_dwi = bvec[bval>100,:]\n",
    "    dirs = bvec[bval>100,:]\n",
    "\n",
    "    # Generate Ground Truth for Comparison\n",
    "    data1 = np.concatenate((meanb0[:,:,:,np.newaxis],dwis[:,:,:,:]),axis = -1)\n",
    "    shape = np.shape(data1)\n",
    "\n",
    "    # Input Array Make\n",
    "    padded_array = np.pad(data1,((0,0),(2,2),(0,0),(0,0)))\n",
    "\n",
    "    F = sp.linop.FFT(padded_array.shape, axes=(0, 1, 2))\n",
    "    kspc = F(padded_array)\n",
    "\n",
    "    x,y,z,dd = kspc.shape   # Get dimensions\n",
    "    startx = int(x//2-(cropx//2))\n",
    "    starty = int(y//2-(cropy//2))  \n",
    "    startz = int(z//2-(cropz//2))  \n",
    "\n",
    "    kspc_crop = kspc[startx:startx+cropx,starty:starty+cropy,startz:startz+cropz,:]\n",
    "    Fcrop = sp.linop.FFT(kspc_crop.shape, axes=(0,1,2))\n",
    "    im_crop =abs(Fcrop.H(kspc_crop))\n",
    "\n",
    "    #Output Array Make\n",
    "    bvals_6dirs = np.insert(bvals_dwi,0,0,axis = 0)\n",
    "    bvecs_6dirs = np.insert(bvecs_dwi,0,[0,0,0],axis = 0)\n",
    "    gtab = gradient_table(bvals_6dirs, bvecs_6dirs)\n",
    "\n",
    "    _, mask = median_otsu(im_crop[:,:,:,0])\n",
    "\n",
    "    maskdata = im_crop * np.repeat(mask[:,:,:,np.newaxis],im_crop.shape[-1],axis=-1)\n",
    "    tenmodel = dti.TensorModel(gtab)\n",
    "    tenfit = tenmodel.fit(maskdata)\n",
    "\n",
    "    FA = fractional_anisotropy(tenfit.evals)\n",
    "    FA[np.isnan(FA)] = 0\n",
    "    fa_img = nib.Nifti1Image(FA.astype(np.float32), np.eye(4))\n",
    "\n",
    "\n",
    "    savename_in = 'Data_adjusted/gt_' + scanlist[num].split('/')[1] + 'in'\n",
    "    savename_out = 'Data_adjusted/gt_' + scanlist[num].split('/')[1] + 'out'\n",
    "    save(savename_in,(im_crop))\n",
    "    save(savename_out,(FA))\n",
    "    \n",
    "    print(num,end = ' ')"
   ]
  },
  {
   "cell_type": "markdown",
   "id": "341dfb9a",
   "metadata": {},
   "source": [
    "# Testing Things"
   ]
  },
  {
   "cell_type": "code",
   "execution_count": 86,
   "id": "e8cc9bfa",
   "metadata": {},
   "outputs": [],
   "source": [
    "from nilearn.masking import compute_epi_mask\n",
    "from dipy.segment.mask import median_otsu\n",
    "maskdata = im_crop * np.repeat(mask[:,:,:,np.newaxis],im_crop.shape[-1],axis=-1)\n",
    "tenmodel = dti.TensorModel(gtab)\n",
    "tenfit = tenmodel.fit(maskdata)\n",
    "FA = fractional_anisotropy(tenfit.evals)\n",
    "FA[np.isnan(FA)] = 0"
   ]
  },
  {
   "cell_type": "code",
   "execution_count": 9,
   "id": "a85fbc86",
   "metadata": {},
   "outputs": [
    {
     "data": {
      "image/png": "[encoded data removed]",
      "text/plain": [
       "<Figure size 432x288 with 1 Axes>"
      ]
     },
     "metadata": {
      "needs_background": "light"
     },
     "output_type": "display_data"
    }
   ],
   "source": [
    "FA = fractional_anisotropy(tenfit.evals)\n",
    "FA[np.isnan(FA)] = 0\n",
    "#fa_img = nib.Nifti1Image(FA.astype(np.float32), np.eye(4))\n",
    "plt.imshow(FA[:,:,43])\n",
    "plt.show()\n",
    "MD2 = tenfit.md\n"
   ]
  },
  {
   "cell_type": "code",
   "execution_count": 8,
   "id": "223ebd62",
   "metadata": {},
   "outputs": [
    {
     "data": {
      "text/plain": [
       "(146, 144, 5, 156)"
      ]
     },
     "execution_count": 8,
     "metadata": {},
     "output_type": "execute_result"
    }
   ],
   "source": [
    "## Get FA from image_resized \n",
    "\n",
    "gtab = gradient_table(bvals, bvecs)\n",
    "maskdata, mask = median_otsu(meanb0[:,:,0], median_radius=3, numpass=20)\n",
    "tenmodel = dti.TensorModel(gtab)\n",
    "tenfit = tenmodel.fit(maskdata)\n",
    "print('Computing anisotropy measures (FA, MD, RGB)')\n",
    "\n",
    "\n",
    "FA = fractional_anisotropy(tenfit.evals)\n",
    "FA[np.isnan(FA)] = 0"
   ]
  },
  {
   "cell_type": "code",
   "execution_count": 101,
   "id": "60201480",
   "metadata": {},
   "outputs": [
    {
     "data": {
      "text/plain": [
       "(87, 6)"
      ]
     },
     "execution_count": 101,
     "metadata": {},
     "output_type": "execute_result"
    }
   ],
   "source": [
    "sixDirs.shape"
   ]
  },
  {
   "cell_type": "code",
   "execution_count": 78,
   "id": "7fdaa409",
   "metadata": {},
   "outputs": [
    {
     "name": "stdout",
     "output_type": "stream",
     "text": [
      "84\n"
     ]
    }
   ],
   "source": [
    "cropx=int(128)\n",
    "cropy=int(128)\n",
    "factor = data.shape[0]/cropx\n",
    "cropz = int(data.shape[2] // factor)\n",
    "print(cropz)"
   ]
  },
  {
   "cell_type": "code",
   "execution_count": null,
   "id": "8166fc3f",
   "metadata": {},
   "outputs": [],
   "source": []
  }
 ],
 "metadata": {
  "kernelspec": {
   "display_name": "Python 3",
   "language": "python",
   "name": "python3"
  },
  "language_info": {
   "codemirror_mode": {
    "name": "ipython",
    "version": 3
   },
   "file_extension": ".py",
   "mimetype": "text/x-python",
   "name": "python",
   "nbconvert_exporter": "python",
   "pygments_lexer": "ipython3",
   "version": "3.8.8"
  }
 },
 "nbformat": 4,
 "nbformat_minor": 5
}
